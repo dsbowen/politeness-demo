{
 "cells": [
  {
   "cell_type": "code",
   "execution_count": 6,
   "metadata": {},
   "outputs": [
    {
     "data": {
      "text/plain": [
       "'a*\\n*b'"
      ]
     },
     "execution_count": 6,
     "metadata": {},
     "output_type": "execute_result"
    }
   ],
   "source": [
    "\"*\\n*\".join([line.strip() for line in \"a \\n b\".splitlines()])"
   ]
  },
  {
   "cell_type": "code",
   "execution_count": null,
   "metadata": {},
   "outputs": [],
   "source": [
    "# You can easily and quickly test new code in a notebook\n",
    "# before adding it to the survey (the __ini__.py file)\n",
    "import os\n",
    "\n",
    "from flask_login import current_user\n",
    "from hemlock import User, Page, create_test_app\n",
    "from hemlock.functional import compile, validate, test_response\n",
    "from hemlock.questions import Check, Input, Label, Range, Select, Textarea\n",
    "from hemlock import utils\n",
    "from sqlalchemy_mutable.utils import partial\n",
    "\n",
    "# remove GITPOD_HOST from environment\n",
    "# this is used for redirects when running an app in gitpod\n",
    "# but here we're only running a test app\n",
    "os.environ.pop(\"GITPOD_HOST\", None)\n",
    "\n",
    "\n",
    "def seed():\n",
    "    return [\n",
    "        Page(\n",
    "            name_input := Input(\n",
    "                \"What's your name?\",\n",
    "                variable=\"name\"\n",
    "            )\n",
    "        ),\n",
    "        Page(\n",
    "            Label(compile=partial(greet_user, name_input)),\n",
    "            back=True\n",
    "        )\n",
    "    ]\n",
    "\n",
    "\n",
    "def greet_user(greet_label, name_input):\n",
    "    greet_label.label = f\"Hello, {name_input.response}!\"\n",
    "\n",
    "\n",
    "# get a test user started on the survey\n",
    "app = create_test_app()\n",
    "user = User.make_test_user(seed)\n",
    "user.test_get().display()"
   ]
  },
  {
   "cell_type": "code",
   "execution_count": null,
   "metadata": {},
   "outputs": [],
   "source": [
    "# respond to \"What's your name?\" with \"Socrates\"\n",
    "user.test_request([\"Socrates\"]).display()"
   ]
  },
  {
   "cell_type": "code",
   "execution_count": null,
   "metadata": {},
   "outputs": [],
   "source": [
    "# go back one page\n",
    "user.test_request(direction=\"back\").display()"
   ]
  },
  {
   "cell_type": "code",
   "execution_count": null,
   "metadata": {},
   "outputs": [],
   "source": [
    "# change your name to \"Plato\"\n",
    "user.test_request([\"Plato\"]).display()"
   ]
  },
  {
   "cell_type": "code",
   "execution_count": null,
   "metadata": {},
   "outputs": [],
   "source": [
    "# notice that the user's data has a column \"name\" with value \"Plato\"\n",
    "user.get_data()"
   ]
  },
  {
   "cell_type": "code",
   "execution_count": null,
   "metadata": {},
   "outputs": [],
   "source": []
  }
 ],
 "metadata": {
  "interpreter": {
   "hash": "2434e11b61ef8302e9f77cff4a3245687722323e4c9355550d8128586d99375c"
  },
  "kernelspec": {
   "display_name": "Python 3.9.7 64-bit ('hemlock-template': conda)",
   "language": "python",
   "name": "python3"
  },
  "language_info": {
   "codemirror_mode": {
    "name": "ipython",
    "version": 3
   },
   "file_extension": ".py",
   "mimetype": "text/x-python",
   "name": "python",
   "nbconvert_exporter": "python",
   "pygments_lexer": "ipython3",
   "version": "3.8.12"
  },
  "orig_nbformat": 4
 },
 "nbformat": 4,
 "nbformat_minor": 2
}
